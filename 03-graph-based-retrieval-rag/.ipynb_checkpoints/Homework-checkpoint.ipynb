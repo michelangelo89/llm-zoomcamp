{
 "cells": [
  {
   "cell_type": "markdown",
   "id": "e21454b0-a6ff-4b5c-992f-8f58d3caed0f",
   "metadata": {},
   "source": [
    "# 🧠 Homework: From REST to Reasoning with `dlt` and Qdrant\n",
    "\n",
    "This notebook walks through the LLM Zoomcamp homework on loading FAQ data using `dlt` and storing it in the Qdrant vector database.\n"
   ]
  },
  {
   "cell_type": "markdown",
   "id": "5f558746-5ef9-47f3-8cea-35ca1320394f",
   "metadata": {},
   "source": [
    "## ✅ Question 1 – What version of `dlt` is installed?\n",
    "\n",
    "To begin, we install the required libraries with Qdrant and embedding support:\n",
    "\n",
    "```bash\n",
    "pip install -q \"dlt[qdrant]\" \"qdrant-client[fastembed]\"\n",
    "\n",
    "Next, we check the installed version of dlt:\n",
    "\n",
    "import dlt\n",
    "print(dlt.__version__)\n",
    "\n",
    "📦 Answer: 1.13.0\n",
    "\n"
   ]
  },
  {
   "cell_type": "code",
   "execution_count": 1,
   "id": "150716f2-d9f1-498c-a5b1-dfb415a7a1fc",
   "metadata": {},
   "outputs": [
    {
     "name": "stdout",
     "output_type": "stream",
     "text": [
      "1.13.0\n"
     ]
    }
   ],
   "source": [
    "import dlt\n",
    "print(dlt.__version__)"
   ]
  },
  {
   "cell_type": "code",
   "execution_count": 2,
   "id": "10a95ee5-da8b-4b5e-a426-6dcacf45748a",
   "metadata": {},
   "outputs": [],
   "source": [
    "import dlt\n",
    "import requests\n",
    "\n",
    "@dlt.resource\n",
    "def zoomcamp_data():\n",
    "    docs_url = 'https://github.com/alexeygrigorev/llm-rag-workshop/raw/main/notebooks/documents.json'\n",
    "    docs_response = requests.get(docs_url)\n",
    "    documents_raw = docs_response.json()\n",
    "\n",
    "    for course in documents_raw:\n",
    "        course_name = course['course']\n",
    "        for doc in course['documents']:\n",
    "            doc['course'] = course_name\n",
    "            yield doc"
   ]
  },
  {
   "cell_type": "markdown",
   "id": "9fe34bda-4aed-44a7-bfef-04214c27851c",
   "metadata": {},
   "source": [
    "## ✅ Question 2 — Create a `dlt` pipeline and load data into Qdrant\n",
    "\n",
    "In this step, we:\n",
    "\n",
    "1. Set up a **Qdrant** destination\n",
    "2. Created a `dlt.pipeline` to manage our data workflow\n",
    "3. Ran the pipeline with the `zoomcamp_data()` resource\n",
    "4. Verified how many rows were inserted into Qdrant\n",
    "\n",
    "📊 **Result**  \n",
    "According to the pipeline trace output:\n",
    "\n",
    "✅ **Answer**: `948 rows` were inserted into the `zoomcamp_data` collection."
   ]
  },
  {
   "cell_type": "code",
   "execution_count": 4,
   "id": "3b21e4f9-d55d-499b-96ad-1a46a731e2d3",
   "metadata": {},
   "outputs": [
    {
     "name": "stdout",
     "output_type": "stream",
     "text": [
      "Run started at 2025-07-10 09:16:33.281782+00:00 and COMPLETED in 5.02 seconds with 4 steps.\n",
      "Step extract COMPLETED in 0.33 seconds.\n",
      "\n",
      "Load package 1752138993.847789 is EXTRACTED and NOT YET LOADED to the destination and contains no failed jobs\n",
      "\n",
      "Step normalize COMPLETED in 0.08 seconds.\n",
      "Normalized data for the following tables:\n",
      "- zoomcamp_data: 948 row(s)\n",
      "\n",
      "Load package 1752138993.847789 is NORMALIZED and NOT YET LOADED to the destination and contains no failed jobs\n",
      "\n",
      "Step load COMPLETED in 4.06 seconds.\n",
      "Pipeline zoomcamp_pipeline load step completed in 4.05 seconds\n",
      "1 load package(s) were loaded to destination qdrant and into dataset zoomcamp_tagged_data\n",
      "The qdrant destination used /workspaces/llm-zoomcamp/03-graph-based-retrieval-rag/db.qdrant location to store data\n",
      "Load package 1752138993.847789 is LOADED and contains no failed jobs\n",
      "\n",
      "Step run COMPLETED in 5.02 seconds.\n",
      "Pipeline zoomcamp_pipeline load step completed in 4.05 seconds\n",
      "1 load package(s) were loaded to destination qdrant and into dataset zoomcamp_tagged_data\n",
      "The qdrant destination used /workspaces/llm-zoomcamp/03-graph-based-retrieval-rag/db.qdrant location to store data\n",
      "Load package 1752138993.847789 is LOADED and contains no failed jobs\n"
     ]
    }
   ],
   "source": [
    "from dlt.destinations import qdrant\n",
    "\n",
    "# 1. Define Qdrant destination\n",
    "qdrant_destination = qdrant(\n",
    "    qd_path=\"db.qdrant\"  # this creates a local folder for the vector DB\n",
    ")\n",
    "\n",
    "# 2. Create the pipeline\n",
    "pipeline = dlt.pipeline(\n",
    "    pipeline_name=\"zoomcamp_pipeline\",\n",
    "    destination=qdrant_destination,\n",
    "    dataset_name=\"zoomcamp_tagged_data\"\n",
    ")\n",
    "\n",
    "# 3. Run the pipeline\n",
    "load_info = pipeline.run(zoomcamp_data())\n",
    "\n",
    "# 4. Print summary info\n",
    "print(pipeline.last_trace)"
   ]
  },
  {
   "cell_type": "markdown",
   "id": "a914c125-a06b-4dba-817e-6232133b256c",
   "metadata": {},
   "source": [
    "## ✅ Question 3 – What embedding model was used?\n",
    "\n",
    "When we ran the `dlt` pipeline, it automatically embedded the text before storing it in Qdrant.\n",
    "\n",
    "To find out **which embedding model** was used, we can inspect the `meta.json` file that was created by `dlt` inside the local Qdrant folder:\n",
    "\n",
    "📁 Path:\n",
    "\n",
    "🔍 We looked under the `\"vectors\"` section and found:\n",
    "\n",
    "```json\n",
    "\"vectors\": {\n",
    "  \"fast-bge-small-en\": {\n",
    "    \"distance\": \"Cosine\",\n",
    "    \"size\": 384\n",
    " \n",
    "  }\n",
    "}"
   ]
  },
  {
   "cell_type": "code",
   "execution_count": 5,
   "id": "f609e12d-b597-449b-8336-c92c369d2b59",
   "metadata": {
    "scrolled": true
   },
   "outputs": [
    {
     "name": "stdout",
     "output_type": "stream",
     "text": [
      "{'aliases': {},\n",
      " 'collections': {'zoomcamp_tagged_data': {'hnsw_config': None,\n",
      "                                          'init_from': None,\n",
      "                                          'on_disk_payload': None,\n",
      "                                          'optimizers_config': None,\n",
      "                                          'quantization_config': None,\n",
      "                                          'replication_factor': None,\n",
      "                                          'shard_number': None,\n",
      "                                          'sharding_method': None,\n",
      "                                          'sparse_vectors': None,\n",
      "                                          'strict_mode_config': None,\n",
      "                                          'vectors': {'fast-bge-small-en': {'datatype': None,\n",
      "                                                                            'distance': 'Cosine',\n",
      "                                                                            'hnsw_config': None,\n",
      "                                                                            'multivector_config': None,\n",
      "                                                                            'on_disk': None,\n",
      "                                                                            'quantization_config': None,\n",
      "                                                                            'size': 384}},\n",
      "                                          'wal_config': None,\n",
      "                                          'write_consistency_factor': None},\n",
      "                 'zoomcamp_tagged_data__dlt_loads': {'hnsw_config': None,\n",
      "                                                     'init_from': None,\n",
      "                                                     'on_disk_payload': None,\n",
      "                                                     'optimizers_config': None,\n",
      "                                                     'quantization_config': None,\n",
      "                                                     'replication_factor': None,\n",
      "                                                     'shard_number': None,\n",
      "                                                     'sharding_method': None,\n",
      "                                                     'sparse_vectors': None,\n",
      "                                                     'strict_mode_config': None,\n",
      "                                                     'vectors': {'fast-bge-small-en': {'datatype': None,\n",
      "                                                                                       'distance': 'Cosine',\n",
      "                                                                                       'hnsw_config': None,\n",
      "                                                                                       'multivector_config': None,\n",
      "                                                                                       'on_disk': None,\n",
      "                                                                                       'quantization_config': None,\n",
      "                                                                                       'size': 384}},\n",
      "                                                     'wal_config': None,\n",
      "                                                     'write_consistency_factor': None},\n",
      "                 'zoomcamp_tagged_data__dlt_pipeline_state': {'hnsw_config': None,\n",
      "                                                              'init_from': None,\n",
      "                                                              'on_disk_payload': None,\n",
      "                                                              'optimizers_config': None,\n",
      "                                                              'quantization_config': None,\n",
      "                                                              'replication_factor': None,\n",
      "                                                              'shard_number': None,\n",
      "                                                              'sharding_method': None,\n",
      "                                                              'sparse_vectors': None,\n",
      "                                                              'strict_mode_config': None,\n",
      "                                                              'vectors': {'fast-bge-small-en': {'datatype': None,\n",
      "                                                                                                'distance': 'Cosine',\n",
      "                                                                                                'hnsw_config': None,\n",
      "                                                                                                'multivector_config': None,\n",
      "                                                                                                'on_disk': None,\n",
      "                                                                                                'quantization_config': None,\n",
      "                                                                                                'size': 384}},\n",
      "                                                              'wal_config': None,\n",
      "                                                              'write_consistency_factor': None},\n",
      "                 'zoomcamp_tagged_data__dlt_version': {'hnsw_config': None,\n",
      "                                                       'init_from': None,\n",
      "                                                       'on_disk_payload': None,\n",
      "                                                       'optimizers_config': None,\n",
      "                                                       'quantization_config': None,\n",
      "                                                       'replication_factor': None,\n",
      "                                                       'shard_number': None,\n",
      "                                                       'sharding_method': None,\n",
      "                                                       'sparse_vectors': None,\n",
      "                                                       'strict_mode_config': None,\n",
      "                                                       'vectors': {'fast-bge-small-en': {'datatype': None,\n",
      "                                                                                         'distance': 'Cosine',\n",
      "                                                                                         'hnsw_config': None,\n",
      "                                                                                         'multivector_config': None,\n",
      "                                                                                         'on_disk': None,\n",
      "                                                                                         'quantization_config': None,\n",
      "                                                                                         'size': 384}},\n",
      "                                                       'wal_config': None,\n",
      "                                                       'write_consistency_factor': None},\n",
      "                 'zoomcamp_tagged_data_zoomcamp_data': {'hnsw_config': None,\n",
      "                                                        'init_from': None,\n",
      "                                                        'on_disk_payload': None,\n",
      "                                                        'optimizers_config': None,\n",
      "                                                        'quantization_config': None,\n",
      "                                                        'replication_factor': None,\n",
      "                                                        'shard_number': None,\n",
      "                                                        'sharding_method': None,\n",
      "                                                        'sparse_vectors': None,\n",
      "                                                        'strict_mode_config': None,\n",
      "                                                        'vectors': {'fast-bge-small-en': {'datatype': None,\n",
      "                                                                                          'distance': 'Cosine',\n",
      "                                                                                          'hnsw_config': None,\n",
      "                                                                                          'multivector_config': None,\n",
      "                                                                                          'on_disk': None,\n",
      "                                                                                          'quantization_config': None,\n",
      "                                                                                          'size': 384}},\n",
      "                                                        'wal_config': None,\n",
      "                                                        'write_consistency_factor': None}}}\n"
     ]
    }
   ],
   "source": [
    "import json\n",
    "\n",
    "# Open the metadata file created by dlt inside the qdrant directory\n",
    "with open(\"db.qdrant/meta.json\") as f:\n",
    "    meta = json.load(f)\n",
    "\n",
    "# Print the entire content to see which model was used\n",
    "import pprint\n",
    "pprint.pprint(meta)"
   ]
  }
 ],
 "metadata": {
  "kernelspec": {
   "display_name": "Python 3 (ipykernel)",
   "language": "python",
   "name": "python3"
  },
  "language_info": {
   "codemirror_mode": {
    "name": "ipython",
    "version": 3
   },
   "file_extension": ".py",
   "mimetype": "text/x-python",
   "name": "python",
   "nbconvert_exporter": "python",
   "pygments_lexer": "ipython3",
   "version": "3.12.1"
  }
 },
 "nbformat": 4,
 "nbformat_minor": 5
}
