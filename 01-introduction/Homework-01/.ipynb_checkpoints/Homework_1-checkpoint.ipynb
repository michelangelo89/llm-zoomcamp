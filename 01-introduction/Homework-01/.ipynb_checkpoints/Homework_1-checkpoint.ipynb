{
 "cells": [
  {
   "cell_type": "markdown",
   "id": "c737a711-883d-49b4-acee-a5b008735d9a",
   "metadata": {},
   "source": [
    "### ✅ Q1. Running Elastic\n",
    "\n",
    "**Answer:**  \n",
    "`dbcbbbd0bc4924cfeb28929dc05d82d662c527b7`\n",
    "\n",
    "\n",
    "### ✅ Q2. Indexing the data\n",
    "\n",
    "**Answer:**  \n",
    "`index`\n",
    "\n",
    "\n",
    "### ✅ Q3. Searching\n",
    "\n",
    "**Top result score:**  \n",
    "`55.17`  \n",
    "**Closest answer option:**  \n",
    "`44.50`\n",
    "\n",
    "\n",
    "### ✅ Q4. Filtering\n",
    "\n",
    "**Answer:**  \n",
    "`How do I copy files from a different folder into docker container’s working directory?`\n",
    "\n",
    "\n",
    "### ✅ Q5. Building a prompt\n",
    "\n",
    "**Prompt length:**  \n",
    "`804`  \n",
    "**Closest answer option:**  \n",
    "`946`\n",
    "\n",
    "\n",
    "### ✅ Q6. Tokens\n",
    "\n",
    "**Number of tokens:**  \n",
    "`166`  \n",
    "**Closest answer option:**  \n",
    "`120`"
   ]
  },
  {
   "cell_type": "markdown",
   "id": "e34e7249-974b-4cd4-b2d6-152c1b92cbc9",
   "metadata": {},
   "source": [
    "# Q2. Indexing the data"
   ]
  },
  {
   "cell_type": "code",
   "execution_count": 1,
   "id": "201bcada-185e-4903-8899-9d9a1f0e8888",
   "metadata": {},
   "outputs": [],
   "source": [
    "import requests \n",
    "\n",
    "docs_url = 'https://github.com/DataTalksClub/llm-zoomcamp/blob/main/01-intro/documents.json?raw=1'\n",
    "docs_response = requests.get(docs_url)\n",
    "documents_raw = docs_response.json()\n",
    "\n",
    "documents = []\n",
    "\n",
    "for course in documents_raw:\n",
    "    course_name = course['course']\n",
    "\n",
    "    for doc in course['documents']:\n",
    "        doc['course'] = course_name\n",
    "        documents.append(doc)"
   ]
  },
  {
   "cell_type": "code",
   "execution_count": 2,
   "id": "d5564469-bcc5-46b6-9eb1-513b37205c52",
   "metadata": {},
   "outputs": [
    {
     "data": {
      "text/plain": [
       "ObjectApiResponse({'acknowledged': True, 'shards_acknowledged': True, 'index': 'zoomcamp'})"
      ]
     },
     "execution_count": 2,
     "metadata": {},
     "output_type": "execute_result"
    }
   ],
   "source": [
    "from elasticsearch import Elasticsearch\n",
    "\n",
    "es = Elasticsearch(\"http://localhost:9200\")\n",
    "\n",
    "index_name = \"zoomcamp\"\n",
    "\n",
    "if es.indices.exists(index=index_name):\n",
    "    es.indices.delete(index=index_name)\n",
    "\n",
    "index_settings = {\n",
    "    \"settings\": {\n",
    "        \"number_of_shards\": 1,\n",
    "        \"number_of_replicas\": 0\n",
    "    },\n",
    "    \"mappings\": {\n",
    "        \"properties\": {\n",
    "            \"text\": {\"type\": \"text\"},\n",
    "            \"section\": {\"type\": \"text\"},\n",
    "            \"question\": {\"type\": \"text\"},\n",
    "            \"course\": {\"type\": \"keyword\"}\n",
    "        }\n",
    "    }\n",
    "}\n",
    "\n",
    "es.indices.create(index=index_name, body=index_settings)"
   ]
  },
  {
   "cell_type": "code",
   "execution_count": 3,
   "id": "ff193bd3-354e-47d1-9fe5-40c46568eefd",
   "metadata": {},
   "outputs": [
    {
     "data": {
      "application/vnd.jupyter.widget-view+json": {
       "model_id": "1f05a277fd0946d88808645b48f083ef",
       "version_major": 2,
       "version_minor": 0
      },
      "text/plain": [
       "  0%|          | 0/948 [00:00<?, ?it/s]"
      ]
     },
     "metadata": {},
     "output_type": "display_data"
    }
   ],
   "source": [
    "from tqdm.auto import tqdm\n",
    "\n",
    "for i, doc in enumerate(tqdm(documents)):\n",
    "    es.index(index=index_name, document=doc)"
   ]
  },
  {
   "cell_type": "markdown",
   "id": "79eb69b6-7d07-4399-96ca-530bd0451051",
   "metadata": {},
   "source": [
    "# Q3. Searching"
   ]
  },
  {
   "cell_type": "code",
   "execution_count": 6,
   "id": "32844238-e41f-4779-8f68-4d1a7d205adc",
   "metadata": {},
   "outputs": [
    {
     "name": "stdout",
     "output_type": "stream",
     "text": [
      "Score: 55.17\n",
      "Question: How do I debug a docker container?\n",
      "\n",
      "Score: 43.76\n",
      "Question: How can I annotate a graph?\n",
      "\n",
      "Score: 41.79\n",
      "Question: How do I copy files from a different folder into docker container’s working directory?\n",
      "\n",
      "Score: 39.41\n",
      "Question: Leaderboard - I am not on the leaderboard / how do I know which one I am on the leaderboard?\n",
      "\n",
      "Score: 37.25\n",
      "Question: How do I sign up?\n",
      "\n"
     ]
    }
   ],
   "source": [
    "from elasticsearch import Elasticsearch\n",
    "\n",
    "# Connect to Elasticsearch\n",
    "es = Elasticsearch(\"http://localhost:9200\")\n",
    "\n",
    "# Define the query\n",
    "query = {\n",
    "    \"size\": 5,\n",
    "    \"query\": {\n",
    "        \"bool\": {\n",
    "            \"must\": {\n",
    "                \"multi_match\": {\n",
    "                    \"query\": \"How do I execute a command on a Kubernetes pod?\",\n",
    "                    \"fields\": [\"question^4\", \"text\"],\n",
    "                    \"type\": \"best_fields\"\n",
    "                }\n",
    "            }\n",
    "        }\n",
    "    }\n",
    "}\n",
    "\n",
    "# Perform the search\n",
    "response = es.search(index=\"zoomcamp\", body=query)\n",
    "\n",
    "# Display top scores and questions\n",
    "for hit in response[\"hits\"][\"hits\"]:\n",
    "    print(f\"Score: {hit['_score']:.2f}\")\n",
    "    print(f\"Question: {hit['_source']['question']}\")\n",
    "    print()\n",
    "    "
   ]
  },
  {
   "cell_type": "markdown",
   "id": "551323a3-0ba1-4c23-9044-ce77d8b1d5ff",
   "metadata": {},
   "source": [
    "# Q4. Filtering"
   ]
  },
  {
   "cell_type": "code",
   "execution_count": 7,
   "id": "fc57e5db-d6a6-413b-9ec4-d2fdeb2df315",
   "metadata": {},
   "outputs": [
    {
     "name": "stdout",
     "output_type": "stream",
     "text": [
      "1. How do I debug a docker container?\n",
      "2. How do I copy files from my local machine to docker container?\n",
      "3. How do I copy files from a different folder into docker container’s working directory?\n"
     ]
    }
   ],
   "source": [
    "from elasticsearch import Elasticsearch\n",
    "\n",
    "# Connect to Elasticsearch\n",
    "es = Elasticsearch(\"http://localhost:9200\")\n",
    "\n",
    "# Define the filtered query\n",
    "query = {\n",
    "    \"size\": 3,\n",
    "    \"query\": {\n",
    "        \"bool\": {\n",
    "            \"must\": {\n",
    "                \"multi_match\": {\n",
    "                    \"query\": \"How do I copy a file to a Docker container?\",\n",
    "                    \"fields\": [\"question^4\", \"text\"],\n",
    "                    \"type\": \"best_fields\"\n",
    "                }\n",
    "            },\n",
    "            \"filter\": {\n",
    "                \"term\": {\n",
    "                    \"course\": \"machine-learning-zoomcamp\"\n",
    "                }\n",
    "            }\n",
    "        }\n",
    "    }\n",
    "}\n",
    "\n",
    "# Perform the search\n",
    "response = es.search(index=\"zoomcamp\", body=query)\n",
    "\n",
    "# Print the questions in the top 3 results\n",
    "for i, hit in enumerate(response[\"hits\"][\"hits\"], start=1):\n",
    "    print(f\"{i}. {hit['_source']['question']}\")"
   ]
  },
  {
   "cell_type": "markdown",
   "id": "cc6a3dc3-93d8-47d5-a876-75646329cd81",
   "metadata": {},
   "source": [
    "# Q5. Building a prompt"
   ]
  },
  {
   "cell_type": "code",
   "execution_count": 8,
   "id": "bba5f784-7ba1-4ab4-aa63-7b3702ad2135",
   "metadata": {},
   "outputs": [],
   "source": [
    "context_template = \"\"\"\n",
    "Q: {question}\n",
    "A: {text}\n",
    "\"\"\".strip()"
   ]
  },
  {
   "cell_type": "code",
   "execution_count": 9,
   "id": "c9a0a156-b4bd-47a1-a4c6-eca006ab3647",
   "metadata": {},
   "outputs": [],
   "source": [
    "prompt_template = \"\"\"\n",
    "You're a course teaching assistant. Answer the QUESTION based on the CONTEXT from the FAQ database.\n",
    "Use only the facts from the CONTEXT when answering the QUESTION.\n",
    "\n",
    "QUESTION: {question}\n",
    "\n",
    "CONTEXT:\n",
    "{context}\n",
    "\"\"\".strip()"
   ]
  },
  {
   "cell_type": "code",
   "execution_count": 10,
   "id": "fe8216b0-6f15-49ba-adcf-ad15e4651b51",
   "metadata": {},
   "outputs": [
    {
     "name": "stdout",
     "output_type": "stream",
     "text": [
      "You're a course teaching assistant. Answer the QUESTION based on the CONTEXT from the FAQ database.\n",
      "Use only the facts from the CONTEXT when answering the QUESTION.\n",
      "\n",
      "QUESTION: How do I execute a command in a running docker container?\n",
      "\n",
      "CONTEXT:\n",
      "Q: How do I debug a docker container?\n",
      "A: You can debug a Docker container by using the docker exec command to start a shell session inside the container...\n",
      "\n",
      "Q: How do I copy files from my local machine to docker container?\n",
      "A: Use docker cp to copy files from local machine to container. Example: docker cp file.txt container_name:/path/in/container\n",
      "\n",
      "Q: How do I copy files from a different folder into docker container’s working directory?\n",
      "A: Navigate to the correct folder or specify full path when using docker cp to ensure it lands in the working directory.\n",
      "\n",
      "---\n",
      "Prompt length: 804\n"
     ]
    }
   ],
   "source": [
    "q4_results = [\n",
    "    {\n",
    "        \"question\": \"How do I debug a docker container?\",\n",
    "        \"text\": \"You can debug a Docker container by using the docker exec command to start a shell session inside the container...\"\n",
    "    },\n",
    "    {\n",
    "        \"question\": \"How do I copy files from my local machine to docker container?\",\n",
    "        \"text\": \"Use docker cp to copy files from local machine to container. Example: docker cp file.txt container_name:/path/in/container\"\n",
    "    },\n",
    "    {\n",
    "        \"question\": \"How do I copy files from a different folder into docker container’s working directory?\",\n",
    "        \"text\": \"Navigate to the correct folder or specify full path when using docker cp to ensure it lands in the working directory.\"\n",
    "    }\n",
    "]\n",
    "\n",
    "context_parts = []\n",
    "\n",
    "for doc in q4_results:\n",
    "    context_parts.append(f\"Q: {doc['question']}\\nA: {doc['text']}\")\n",
    "\n",
    "context = \"\\n\\n\".join(context_parts)\n",
    "\n",
    "prompt_question = \"How do I execute a command in a running docker container?\"\n",
    "\n",
    "prompt = f\"\"\"\n",
    "You're a course teaching assistant. Answer the QUESTION based on the CONTEXT from the FAQ database.\n",
    "Use only the facts from the CONTEXT when answering the QUESTION.\n",
    "\n",
    "QUESTION: {prompt_question}\n",
    "\n",
    "CONTEXT:\n",
    "{context}\n",
    "\"\"\".strip()\n",
    "\n",
    "print(prompt)\n",
    "print(\"\\n---\\nPrompt length:\", len(prompt))"
   ]
  },
  {
   "cell_type": "markdown",
   "id": "38421b14-8895-4470-ba34-ab066dd711e8",
   "metadata": {},
   "source": [
    "# Q6. Tokens\n"
   ]
  },
  {
   "cell_type": "code",
   "execution_count": 11,
   "id": "f8b0305d-c1cf-4b7d-ae4a-e4d5b826e571",
   "metadata": {},
   "outputs": [
    {
     "name": "stdout",
     "output_type": "stream",
     "text": [
      "Collecting tiktoken\n",
      "  Downloading tiktoken-0.9.0-cp312-cp312-manylinux_2_17_x86_64.manylinux2014_x86_64.whl.metadata (6.7 kB)\n",
      "Collecting regex>=2022.1.18 (from tiktoken)\n",
      "  Downloading regex-2024.11.6-cp312-cp312-manylinux_2_17_x86_64.manylinux2014_x86_64.whl.metadata (40 kB)\n",
      "Requirement already satisfied: requests>=2.26.0 in /home/codespace/.local/lib/python3.12/site-packages (from tiktoken) (2.32.3)\n",
      "Requirement already satisfied: charset-normalizer<4,>=2 in /home/codespace/.local/lib/python3.12/site-packages (from requests>=2.26.0->tiktoken) (3.4.1)\n",
      "Requirement already satisfied: idna<4,>=2.5 in /home/codespace/.local/lib/python3.12/site-packages (from requests>=2.26.0->tiktoken) (3.10)\n",
      "Requirement already satisfied: urllib3<3,>=1.21.1 in /home/codespace/.local/lib/python3.12/site-packages (from requests>=2.26.0->tiktoken) (2.3.0)\n",
      "Requirement already satisfied: certifi>=2017.4.17 in /home/codespace/.local/lib/python3.12/site-packages (from requests>=2.26.0->tiktoken) (2025.1.31)\n",
      "Downloading tiktoken-0.9.0-cp312-cp312-manylinux_2_17_x86_64.manylinux2014_x86_64.whl (1.2 MB)\n",
      "\u001b[2K   \u001b[38;2;114;156;31m━━━━━━━━━━━━━━━━━━━━━━━━━━━━━━━━━━━━━━━━\u001b[0m \u001b[32m1.2/1.2 MB\u001b[0m \u001b[31m44.9 MB/s\u001b[0m eta \u001b[36m0:00:00\u001b[0m\n",
      "\u001b[?25hDownloading regex-2024.11.6-cp312-cp312-manylinux_2_17_x86_64.manylinux2014_x86_64.whl (796 kB)\n",
      "\u001b[2K   \u001b[38;2;114;156;31m━━━━━━━━━━━━━━━━━━━━━━━━━━━━━━━━━━━━━━━━\u001b[0m \u001b[32m796.9/796.9 kB\u001b[0m \u001b[31m39.2 MB/s\u001b[0m eta \u001b[36m0:00:00\u001b[0m\n",
      "\u001b[?25hInstalling collected packages: regex, tiktoken\n",
      "Successfully installed regex-2024.11.6 tiktoken-0.9.0\n",
      "\n",
      "\u001b[1m[\u001b[0m\u001b[34;49mnotice\u001b[0m\u001b[1;39;49m]\u001b[0m\u001b[39;49m A new release of pip is available: \u001b[0m\u001b[31;49m25.0.1\u001b[0m\u001b[39;49m -> \u001b[0m\u001b[32;49m25.1.1\u001b[0m\n",
      "\u001b[1m[\u001b[0m\u001b[34;49mnotice\u001b[0m\u001b[1;39;49m]\u001b[0m\u001b[39;49m To update, run: \u001b[0m\u001b[32;49mpython3 -m pip install --upgrade pip\u001b[0m\n",
      "Note: you may need to restart the kernel to use updated packages.\n"
     ]
    }
   ],
   "source": [
    "pip install tiktoken"
   ]
  },
  {
   "cell_type": "code",
   "execution_count": 12,
   "id": "831bba4e-1d23-421d-84a0-161ecd90e8ce",
   "metadata": {},
   "outputs": [
    {
     "name": "stdout",
     "output_type": "stream",
     "text": [
      "Number of tokens: 166\n"
     ]
    }
   ],
   "source": [
    "import tiktoken\n",
    "\n",
    "# Use the GPT-4o tokenizer\n",
    "encoding = tiktoken.encoding_for_model(\"gpt-4o\")\n",
    "\n",
    "# This is your prompt from Q5\n",
    "prompt = \"\"\"\n",
    "You're a course teaching assistant. Answer the QUESTION based on the CONTEXT from the FAQ database.\n",
    "Use only the facts from the CONTEXT when answering the QUESTION.\n",
    "\n",
    "QUESTION: How do I execute a command in a running docker container?\n",
    "\n",
    "CONTEXT:\n",
    "Q: How do I debug a docker container?\n",
    "A: You can debug a Docker container by using the docker exec command to start a shell session inside the container...\n",
    "\n",
    "Q: How do I copy files from my local machine to docker container?\n",
    "A: Use docker cp to copy files from local machine to container. Example: docker cp file.txt container_name:/path/in/container\n",
    "\n",
    "Q: How do I copy files from a different folder into docker container’s working directory?\n",
    "A: Navigate to the correct folder or specify full path when using docker cp to ensure it lands in the working directory.\n",
    "\"\"\".strip()\n",
    "\n",
    "# Count tokens\n",
    "num_tokens = len(encoding.encode(prompt))\n",
    "print(\"Number of tokens:\", num_tokens)"
   ]
  },
  {
   "cell_type": "markdown",
   "id": "c65bc871-5330-4d4e-b590-17b1062a4017",
   "metadata": {},
   "source": [
    "# Bonus: generating the answer (ungraded)"
   ]
  },
  {
   "cell_type": "code",
   "execution_count": 13,
   "id": "536e9651-c0ec-4bcf-95c6-564825205d58",
   "metadata": {},
   "outputs": [
    {
     "name": "stdout",
     "output_type": "stream",
     "text": [
      "To execute a command in a running docker container, you can use the docker exec command to start a shell session inside the container.\n"
     ]
    }
   ],
   "source": [
    "from openai import OpenAI\n",
    "\n",
    "# Instantiate the client (your key must be set in the environment as OPENAI_API_KEY)\n",
    "client = OpenAI()\n",
    "\n",
    "# Your final prompt from Q5\n",
    "prompt = \"\"\"\n",
    "You're a course teaching assistant. Answer the QUESTION based on the CONTEXT from the FAQ database.\n",
    "Use only the facts from the CONTEXT when answering the QUESTION.\n",
    "\n",
    "QUESTION: How do I execute a command in a running docker container?\n",
    "\n",
    "CONTEXT:\n",
    "Q: How do I debug a docker container?\n",
    "A: You can debug a Docker container by using the docker exec command to start a shell session inside the container...\n",
    "\n",
    "Q: How do I copy files from my local machine to docker container?\n",
    "A: Use docker cp to copy files from local machine to container. Example: docker cp file.txt container_name:/path/in/container\n",
    "\n",
    "Q: How do I copy files from a different folder into docker container’s working directory?\n",
    "A: Navigate to the correct folder or specify full path when using docker cp to ensure it lands in the working directory.\n",
    "\"\"\".strip()\n",
    "\n",
    "# Make the request\n",
    "response = client.chat.completions.create(\n",
    "    model=\"gpt-3.5-turbo\",\n",
    "    messages=[{\"role\": \"user\", \"content\": prompt}]\n",
    ")\n",
    "\n",
    "# Print the LLM response\n",
    "print(response.choices[0].message.content)"
   ]
  },
  {
   "cell_type": "markdown",
   "id": "9dcc54aa-c3a9-4e76-8599-0745f6dc928d",
   "metadata": {},
   "source": [
    "# Bonus: calculating the costs (ungraded)"
   ]
  },
  {
   "cell_type": "markdown",
   "id": "5b140a1e-00cf-4b4c-a483-5e0accf8419c",
   "metadata": {},
   "source": [
    "Running 1000 requests would cost you $4.50 using GPT-4o at those token rates."
   ]
  },
  {
   "cell_type": "code",
   "execution_count": null,
   "id": "f2aa3a86-a2f9-48a3-adb6-1409fcdefe18",
   "metadata": {},
   "outputs": [],
   "source": []
  }
 ],
 "metadata": {
  "kernelspec": {
   "display_name": "Python 3 (ipykernel)",
   "language": "python",
   "name": "python3"
  },
  "language_info": {
   "codemirror_mode": {
    "name": "ipython",
    "version": 3
   },
   "file_extension": ".py",
   "mimetype": "text/x-python",
   "name": "python",
   "nbconvert_exporter": "python",
   "pygments_lexer": "ipython3",
   "version": "3.12.1"
  }
 },
 "nbformat": 4,
 "nbformat_minor": 5
}
